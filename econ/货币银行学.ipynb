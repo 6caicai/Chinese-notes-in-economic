{
 "cells": [
  {
   "cell_type": "markdown",
   "metadata": {},
   "source": [
    "**Ch.1-19**  \n",
    "成绩占比：40%平时成绩（有期中考试） 60%期末考试\n",
    "不要抄作业 不要作弊"
   ]
  },
  {
   "cell_type": "markdown",
   "metadata": {},
   "source": [
    "什么是金融？  \n",
    "- 金融是一切借贷关系的总和  \n",
    "- 金融市场是配置资源的地方，将资金从富裕方转向短缺方  \n",
    "- security: 证券\n",
    "- bond：债券，承诺在一定时间内支付，国债或企业债：\n",
    "    - bonds，notes，bills均为债券，区别为时间：bonds十年，notes五年，bills一年内。\n",
    "    - T-bonds is Treasury bonds and so on.\n",
    "- interest rate：利息率，$\\frac{利息额}{本金}$ 按年为单位\n",
    "- stock：股票、普通股，代表一部分所有权，可参与公司决策\n",
    "    - 与债券的区别为是否稀释公司所有者的权益\n",
    "    - 可认为等同于Equity（所有者权益）\n",
    "- preferred stock：优先股，优先支付股息，风险更低，无投票权 更适合非初创公司\n",
    "- pecking order theory：融资优先级：内部融资-外部融资，债券优于股权\n",
    "- financial innovation：看涨与看跌方的出借金融资产的行为，most end up as financial crises\n",
    "- financial crises\n"
   ]
  }
 ],
 "metadata": {
  "language_info": {
   "name": "python"
  }
 },
 "nbformat": 4,
 "nbformat_minor": 2
}
