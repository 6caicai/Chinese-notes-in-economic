{
 "cells": [
  {
   "cell_type": "markdown",
   "metadata": {},
   "source": [
    "给分 10%考勤 20%作业 70%考试  \n",
    "学习方法：1.看文献2.听课  \n",
    "10周前不看网课  \n",
    "为什么重要：1.基础，初级计量经济学，学习统计量基本思想，方法论  \n",
    "考试题目以应用题为主，会包含很多章，要求融会贯通  \n",
    "前几节课很重要  \n",
    "经济学分为实证和理论，实为和应为。80%的研究偏实证。  \n"
   ]
  },
  {
   "cell_type": "markdown",
   "metadata": {},
   "source": [
    "一元线性回归 Regression  \n",
    "$y = \\beta_1 + \\beta_2 X + \\xi$  \n",
    "$\\xi $ Error term 随机冲击，误差\n",
    "总体：想要调查却无法准确得知的真实数据，通过无限大容量的样本可逼近  \n",
    "大样本infinite：容量无限大、小样本、有限样本finite:常见于实证分析  \n",
    "总体回归方程：  \n",
    "$Y_i = \\Beta_0 + \\Beta_1 X_i + \\mu_i, i = 1, 2, ..., N $  \n",
    "$Y_i = E(Y_i|X_i) + \\mu_i$  \n",
    "样本回归方程：  \n",
    "$\\hat{Y_i} = \\hat{\\Beta_0} + \\hat{\\Beta_1} X_i$  \n",
    "残值：  \n",
    "$\\hat{\\mu_i} = Y_i - \\hat{Y_i}$  \n",
    "最小二乘法：让残差平方和最小：  \n",
    "$min \\sum_{i=1}^N \\hat{\\mu}_i^2$\n",
    "对该式用 $\\hat{\\Beta_k} k = {0,1}$ 求偏导得：(协方差)  \n",
    "$$\n",
    "    \\begin{cases}\n",
    "        \\sum_{i=1}^N \\hat{\\mu}_i = 0 \\\\\n",
    "        \\sum_{i=1}^N X_i \\hat{\\mu}_i = 0\n",
    "    \\end{cases}\n",
    "$$\n"
   ]
  },
  {
   "cell_type": "markdown",
   "metadata": {},
   "source": []
  }
 ],
 "metadata": {
  "language_info": {
   "name": "python"
  }
 },
 "nbformat": 4,
 "nbformat_minor": 2
}
