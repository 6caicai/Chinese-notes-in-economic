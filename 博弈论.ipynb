{
 "cells": [
  {
   "cell_type": "markdown",
   "metadata": {},
   "source": [
    "interactive behavior of homo rational man(理性人)"
   ]
  },
  {
   "cell_type": "markdown",
   "metadata": {},
   "source": [
    "描述与预测博弈  \n",
    "\n",
    "- Strategic-form:\n",
    "    1. players, N=(1,...,n)\n",
    "    2. strategies, a group, $S_i$\n",
    "    3. payoffs, A pay off function $\\mathit{u}_1$, $S\\mapsto R$ assigned to each player $\\mathit{i}$\n",
    "\n",
    "- The Prisoners' Dilemma:\n",
    "\n",
    "- **Def.**:\n",
    "    6. 严格若策略的剔除\n"
   ]
  }
 ],
 "metadata": {
  "language_info": {
   "name": "python"
  }
 },
 "nbformat": 4,
 "nbformat_minor": 2
}
