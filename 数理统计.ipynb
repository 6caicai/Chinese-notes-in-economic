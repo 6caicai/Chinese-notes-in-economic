{
 "cells": [
  {
   "cell_type": "markdown",
   "metadata": {},
   "source": [
    "分数组成：30%小测 70%期末考试"
   ]
  },
  {
   "cell_type": "markdown",
   "metadata": {},
   "source": [
    "一、统计量与抽样分布  \n",
    "\n",
    "1. 总体，个体，样本  \n",
    "容量为n的样本被定义为 $(x_1, x_2, ……, x_n)^T$  \n",
    "**Th.** 设总体X的分布函数为F(x), 则来自总体X的样本 $(x_1, x_2, ……, x_n)^T$的联合分布函数为$\\prod_{i=1}^nF(x_i)$  \n",
    "\n",
    "2. 统计量与样本矩  \n",
    "**Def.** 样本 $(x_1, x_2, ……, x_n)^T$，统计量为 $f(x_1, x_2, ……, x_n)^T$，统计量不含参数  \n",
    "常用统计量：  \n",
    "    1. 样本均值（区别于总体均值，为一次测量的结果）$\\overline{X}=\\frac1n\\sum_{i=1}^nX_i$  \n",
    "    **Th.** $\\sum_{i=1}^n(x_i-\\overline{x})=0\\quad$ **Def.**$(x_i-\\overline{x})$ 为偏差  \n",
    "    **Th.** 对任意给定的C 有 $\\sum_{i=1}^n(x_i-\\overline{x})^2\\le\\sum_{i=1}^n(x_i-C)^2$  \n",
    "    **Th.** 设$(x_1,x_2,......,x_n)^T$为来自某个总体的样本，$\\overline{x}$为样本均值  \n",
    "    $E(x)=\\mu<+\\infty, D(x)=\\sigma<+\\infty$  \n",
    "    则当n比较大时，$\\overline{X}$的渐进分布为$N(\\mu, \\sigma^2/n)$\n",
    "    2. 样本方差和样本标准差  \n",
    "    **Def.** 样本方差 $S_n^2=\\frac1n \\sum_{i=1}^n(X_i-\\overline{X})^2$  \n",
    "    样本标准差 $S_n=\\sqrt{S_n^2}$  \n",
    "    修正的样本方差 $S_n^{*2}=\\frac1{n-1}\\sum_{i=1}^n(x_i-\\overline{x})^2$  \n",
    "    3. 样本k阶原点矩  \n",
    "    $A_k=\\frac1n\\sum_{i=1}^nx_i^k$\n",
    "    总体k阶原点矩 $U_k=E(X^k)$  \n",
    "    4. 样本k阶中心距  \n",
    "    $B_k=\\frac1n\\sum_{i=1}^n(x_i-\\overline{x})^k\\quad(k=1, 2, ......)$\n",
    "    总体k阶中心距 $V_k=E(X-E(x))^k$  \n",
    "    **Th.** 设总体具有二阶矩 即 $E(x), Var(x) < +\\infty, X_1,X_2,......,X_n$ 为该总体的样本  \n",
    "    则 $E(\\overline{X})=\\mu, Var(\\overline{X})=\\frac{\\sigma^2}n, E(S_n^{*2})=\\sigma^2$\n",
    "    \n",
    "3. 抽样分布  \n",
    "    1. $\\chi^2$ 分布  \n",
    "    **Def.** 设$X_1, X_2,......,X_n$是来自总体N(0,1)的样本，则称统计量$\\chi^2=X_1^2+X_2^2+......+X_n^2$为服从自由度为n的$\\chi^2$分布，记为$\\chi^2\\sim\\chi^2(n)$\n",
    "    概率密度分布函数：\n",
    "    $$\n",
    "    f(n)=\n",
    "    \\begin{cases}\n",
    "        \\frac1{2^{\\frac{n}2}\\Gamma(\\frac2n)}x^{\\frac{n}2-1}e^{-\\frac{x}2},&x>0\\\\\n",
    "        0,&x\\le0\n",
    "    \\end{cases}\n",
    "    $$  \n",
    "    性质：  \n",
    "        1. 可加性 $X_1^2\\sim\\chi^2(n_1), X_2^2\\sim\\chi^2(n_2)$，且 $X_1, X_2$独立，则 $X_1+X_2\\sim\\chi^2(n_1+n_2)$  \n",
    "        2. 若 $\\chi^2\\sim\\chi^2(n)$，则$E(\\chi^2)=n, D(\\chi^2)=2n$  \n",
    "        3. $\\chi^2$ 的极限分布是正态分布\n",
    "    分位点：  \n",
    "    **Def.** 对于给定正数 $\\alpha, 0 < \\alpha < 1$, 称满足 $ P(\\chi^2 > \\chi^2_\\alpha(n)) = \\int_{\\chi_n^2(n)}^{+\\infty}f(y)dy = \\alpha$ 的点 $\\chi_\\alpha^2(n)$ 为 $\\chi^2(n)$ 分布的上 $\\alpha$ 分位点  \n",
    "    **Th.** Cochran 柯赫伦定理：  \n",
    "        设 $X_1, X_2,..., X_n$ 相互独立，且 $X_i\\sim N(0,1)$ 令 $Q = \\sum_{i=1}^n X_i^2$，则Q是自由度为n的 $\\chi^2$ 变量  \n",
    "        若Q可分解为 $Q_1 + Q_2 + ... + Q_k$，其中 $Q_i$ 是秩为 $n_i$ 的关于 $X_1, X_2,..., X_n$ 的非负二次型  \n",
    "        则 $Q_i$ 相互独立且 $Q_i \\sim \\chi^2(n_i)$ 的充要条件是 $n_1 + n_2 + ...+ n_k = n$\n",
    "\n",
    "    2. t分布  \n",
    "    **Def.** 设 $X \\sim N(0, 1), Y \\sim \\chi^2(n)$，且X于Y相互独立，则称 $T = \\frac{X}{\\sqrt{\\frac{Y}n}}$ 为服从自由度为n的t分布，记为 $T \\sim t(n)$  \n",
    "    $f(t) = \\frac{\\Gamma(\\frac{n+1}2)}{\\sqrt{n\\pi}\\Gamma(frac{n}2)}(1+\\frac{t^2}n)^-\\frac{n+1}2$  \n",
    "    性质：\n",
    "        1. t分布的密度函数关于x=0对称，是偶函数\n",
    "        2. f(t)是 $T \\sim t(n)$ 的密度函数，则 $\\lim{n\\rightarrow\\infty}f(t) = \\frac1{\\sqrt{2\\pi}}e^{-\\frac{t^2}2}$  \n",
    "        即t分布的极限分布是N(0,1)\n",
    "        2. $X\\sim t(n)$ 当 $n > 1, EX = 0$ 当 $n>2, DX = \\frac{n}{n-2}$  \n",
    "        4. 当n=1时，t分布成为Cauchy（柯西）分布  \n",
    "        $f(x) = \\frac1{\\pi(1+x^2)}, x\\in R$  \n",
    "        柯西分布的期望和方差不存在\n",
    "\n",
    "    3. F分布\n",
    "    **Def.** 设 $X_1 \\sim \\chi^2(n_1), X_2 \\sim \\chi^2(n_2)$，且 $X_1$ 和 $X_2$ 独立，则称随机变量 $F=\\frac{X_1/n_1}{X_2/n_2}$ 为服从自由度为 $(n_1,n_2)$ 的F分布，记为 $F\\sim F(n_1, n_2)$  \n",
    "    性质：\n",
    "        1. F分布的密度函数曲线是偏态的，对于相同的 $n_1, n_2$ 越小，偏态越严重  \n",
    "        2. 若 $X \\sim t(n)$ 则 $X^2 \\sim F(1,n)$  \n",
    "        2. 当 $n_1$ 充分大且 $n_2 > 4$ 时，自由度为 $(n_1, n_2)$ 的F分布近似服从正态分布 $N(\\frac{n_2}{n_2-2}, \\frac{2n_2^2(n_1+n_2-2)}{n_1(n_2-2)^2}(n_2-4))$  \n",
    "        3. $F_{1-\\alpha}(m,n)=\\frac1{F_\\alpha(n,m)}$"
   ]
  }
 ],
 "metadata": {
  "kernelspec": {
   "display_name": "Python 3",
   "language": "python",
   "name": "python3"
  },
  "language_info": {
   "name": "python",
   "version": "3.12.0"
  }
 },
 "nbformat": 4,
 "nbformat_minor": 2
}
