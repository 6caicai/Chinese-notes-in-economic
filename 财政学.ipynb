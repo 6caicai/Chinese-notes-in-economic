{
 "cells": [
  {
   "cell_type": "markdown",
   "metadata": {},
   "source": [
    "书目：  \n",
    "1. 《公共财政概论》高等教育出版社\n",
    "2. public finance, Harvey Rosen\n",
    "3. 《财政学（第十版）》\n",
    "成绩构成：40%平时成绩 60%期末考试（中文）"
   ]
  },
  {
   "cell_type": "markdown",
   "metadata": {},
   "source": [
    "政府：\n",
    "- 财政支出：如何花掉从纳税人处筹得的钱款  \n",
    "    - 购买性支出\n",
    "    - 转移性支出\n",
    "\n",
    "实证分析&规范分析\n",
    "\n",
    "- case: tax, work & leisure\n",
    "    - wage: $10 per hour, so oppotunity cost of leisure is $10\n",
    "    "
   ]
  }
 ],
 "metadata": {
  "language_info": {
   "name": "python"
  }
 },
 "nbformat": 4,
 "nbformat_minor": 2
}
